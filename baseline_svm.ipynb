{
 "cells": [
  {
   "cell_type": "code",
   "execution_count": 1,
   "metadata": {},
   "outputs": [],
   "source": [
    "import h5py\n",
    "import numpy as np\n",
    "from sklearn.model_selection import train_test_split\n",
    "from sklearn.preprocessing import StandardScaler, LabelEncoder\n",
    "from torch.utils.data import DataLoader\n",
    "from utils import read_datasets, MEGDataset,fit_transform_scaler, temporal_downsampling\n",
    "from sklearn.svm import SVC\n",
    "from sklearn.model_selection import GridSearchCV\n"
   ]
  },
  {
   "cell_type": "code",
   "execution_count": 3,
   "metadata": {},
   "outputs": [],
   "source": [
    "data_directory = \"../data\"\n",
    "data = read_datasets(data_directory)"
   ]
  },
  {
   "cell_type": "code",
   "execution_count": 4,
   "metadata": {},
   "outputs": [],
   "source": [
    "def downsample_scale_data(X,scaler, sample_rate):\n",
    "    \"\"\"\n",
    "    Downsampling MEG data from the time dimension\n",
    "    \"\"\"\n",
    "    if isinstance(X,np.ndarray):\n",
    "        pass\n",
    "    else:\n",
    "        X = np.array(X)\n",
    "    downsampled = []\n",
    "    original_size = X.shape[2]\n",
    "    n_sampledpoints = original_size // sample_rate\n",
    "    for instance in X:\n",
    "        downsampled_instance = np.mean(instance[:, :n_sampledpoints * sample_rate].reshape(instance.shape[0], n_sampledpoints, sample_rate), axis=2)\n",
    "        scaled_downsampled_instance = scaler.fit_transform(downsampled_instance)\n",
    "        downsampled.append(scaled_downsampled_instance)\n",
    "    return np.array(downsampled)\n",
    "\n",
    "def shuffle_flatten_data(X,y):\n",
    "    \"\"\"\n",
    "    flatten the data and shuffle the data and the labels.\n",
    "    \"\"\"\n",
    "    n_instances, n_channels, n_timepoints = X.shape\n",
    "    flattened_X = X.reshape(n_instances, n_channels * n_timepoints)\n",
    "    rng = np.random.default_rng()\n",
    "    indices = np.arange(n_instances)\n",
    "    rng.shuffle(indices)\n",
    "    shuffled_X = flattened_X[indices]\n",
    "    shuffled_y = y[indices]\n",
    "    return shuffled_X, shuffled_y\n",
    "\n",
    "def preprocess_data(X,y,sample_rate,scaler):\n",
    "    \"\"\"\n",
    "    Preprocess MEG data by downsampling, scaling, encoding labels, flattening and shuffling.\n",
    "    \"\"\"\n",
    "    scaled_X = downsample_scale_data(X,sample_rate=sample_rate,scaler=scaler)\n",
    "    label_encoder = LabelEncoder()\n",
    "    encoded_y = label_encoder.fit_transform(y)\n",
    "    shuffled_X, shuffled_y = shuffle_flatten_data(scaled_X, encoded_y)    \n",
    "    return shuffled_X, shuffled_y"
   ]
  },
  {
   "cell_type": "code",
   "execution_count": 5,
   "metadata": {},
   "outputs": [],
   "source": [
    "scaler = StandardScaler()\n",
    "\n",
    "intra_X_train, intra_y_train = preprocess_data(X = data['intra']['X_train'], \n",
    "                                               y = data['intra']['y_train'],\n",
    "                                               sample_rate=8,scaler=scaler)\n",
    "intra_X_test, intra_y_test = preprocess_data(X= data['intra']['X_test'],\n",
    "                                             y= data['intra']['y_test'],\n",
    "                                             sample_rate=8,scaler=scaler)\n",
    "\n",
    "cross_X_train, cross_y_train = preprocess_data(X = data['cross']['X_train'], \n",
    "                                               y = data['cross']['y_train'],\n",
    "                                               sample_rate=8,scaler=scaler)\n",
    "cross_X_test, cross_y_test = preprocess_data(X= data['cross']['X_test1']+data['cross']['X_test2']+data['cross']['X_test3'],\n",
    "                                             y= data['cross']['y_test1']+data['cross']['y_test2']+data['cross']['y_test3'],\n",
    "                                             sample_rate=8,scaler=scaler)"
   ]
  },
  {
   "cell_type": "code",
   "execution_count": 6,
   "metadata": {},
   "outputs": [
    {
     "data": {
      "text/html": [
       "<style>#sk-container-id-1 {color: black;}#sk-container-id-1 pre{padding: 0;}#sk-container-id-1 div.sk-toggleable {background-color: white;}#sk-container-id-1 label.sk-toggleable__label {cursor: pointer;display: block;width: 100%;margin-bottom: 0;padding: 0.3em;box-sizing: border-box;text-align: center;}#sk-container-id-1 label.sk-toggleable__label-arrow:before {content: \"▸\";float: left;margin-right: 0.25em;color: #696969;}#sk-container-id-1 label.sk-toggleable__label-arrow:hover:before {color: black;}#sk-container-id-1 div.sk-estimator:hover label.sk-toggleable__label-arrow:before {color: black;}#sk-container-id-1 div.sk-toggleable__content {max-height: 0;max-width: 0;overflow: hidden;text-align: left;background-color: #f0f8ff;}#sk-container-id-1 div.sk-toggleable__content pre {margin: 0.2em;color: black;border-radius: 0.25em;background-color: #f0f8ff;}#sk-container-id-1 input.sk-toggleable__control:checked~div.sk-toggleable__content {max-height: 200px;max-width: 100%;overflow: auto;}#sk-container-id-1 input.sk-toggleable__control:checked~label.sk-toggleable__label-arrow:before {content: \"▾\";}#sk-container-id-1 div.sk-estimator input.sk-toggleable__control:checked~label.sk-toggleable__label {background-color: #d4ebff;}#sk-container-id-1 div.sk-label input.sk-toggleable__control:checked~label.sk-toggleable__label {background-color: #d4ebff;}#sk-container-id-1 input.sk-hidden--visually {border: 0;clip: rect(1px 1px 1px 1px);clip: rect(1px, 1px, 1px, 1px);height: 1px;margin: -1px;overflow: hidden;padding: 0;position: absolute;width: 1px;}#sk-container-id-1 div.sk-estimator {font-family: monospace;background-color: #f0f8ff;border: 1px dotted black;border-radius: 0.25em;box-sizing: border-box;margin-bottom: 0.5em;}#sk-container-id-1 div.sk-estimator:hover {background-color: #d4ebff;}#sk-container-id-1 div.sk-parallel-item::after {content: \"\";width: 100%;border-bottom: 1px solid gray;flex-grow: 1;}#sk-container-id-1 div.sk-label:hover label.sk-toggleable__label {background-color: #d4ebff;}#sk-container-id-1 div.sk-serial::before {content: \"\";position: absolute;border-left: 1px solid gray;box-sizing: border-box;top: 0;bottom: 0;left: 50%;z-index: 0;}#sk-container-id-1 div.sk-serial {display: flex;flex-direction: column;align-items: center;background-color: white;padding-right: 0.2em;padding-left: 0.2em;position: relative;}#sk-container-id-1 div.sk-item {position: relative;z-index: 1;}#sk-container-id-1 div.sk-parallel {display: flex;align-items: stretch;justify-content: center;background-color: white;position: relative;}#sk-container-id-1 div.sk-item::before, #sk-container-id-1 div.sk-parallel-item::before {content: \"\";position: absolute;border-left: 1px solid gray;box-sizing: border-box;top: 0;bottom: 0;left: 50%;z-index: -1;}#sk-container-id-1 div.sk-parallel-item {display: flex;flex-direction: column;z-index: 1;position: relative;background-color: white;}#sk-container-id-1 div.sk-parallel-item:first-child::after {align-self: flex-end;width: 50%;}#sk-container-id-1 div.sk-parallel-item:last-child::after {align-self: flex-start;width: 50%;}#sk-container-id-1 div.sk-parallel-item:only-child::after {width: 0;}#sk-container-id-1 div.sk-dashed-wrapped {border: 1px dashed gray;margin: 0 0.4em 0.5em 0.4em;box-sizing: border-box;padding-bottom: 0.4em;background-color: white;}#sk-container-id-1 div.sk-label label {font-family: monospace;font-weight: bold;display: inline-block;line-height: 1.2em;}#sk-container-id-1 div.sk-label-container {text-align: center;}#sk-container-id-1 div.sk-container {/* jupyter's `normalize.less` sets `[hidden] { display: none; }` but bootstrap.min.css set `[hidden] { display: none !important; }` so we also need the `!important` here to be able to override the default hidden behavior on the sphinx rendered scikit-learn.org. See: https://github.com/scikit-learn/scikit-learn/issues/21755 */display: inline-block !important;position: relative;}#sk-container-id-1 div.sk-text-repr-fallback {display: none;}</style><div id=\"sk-container-id-1\" class=\"sk-top-container\"><div class=\"sk-text-repr-fallback\"><pre>GridSearchCV(cv=2, estimator=SVC(), n_jobs=-1,\n",
       "             param_grid={&#x27;C&#x27;: [0.0001, 0.01, 0.1], &#x27;gamma&#x27;: [100, 10, 1],\n",
       "                         &#x27;kernel&#x27;: [&#x27;rbf&#x27;, &#x27;poly&#x27;, &#x27;sigmoid&#x27;]})</pre><b>In a Jupyter environment, please rerun this cell to show the HTML representation or trust the notebook. <br />On GitHub, the HTML representation is unable to render, please try loading this page with nbviewer.org.</b></div><div class=\"sk-container\" hidden><div class=\"sk-item sk-dashed-wrapped\"><div class=\"sk-label-container\"><div class=\"sk-label sk-toggleable\"><input class=\"sk-toggleable__control sk-hidden--visually\" id=\"sk-estimator-id-1\" type=\"checkbox\" ><label for=\"sk-estimator-id-1\" class=\"sk-toggleable__label sk-toggleable__label-arrow\">GridSearchCV</label><div class=\"sk-toggleable__content\"><pre>GridSearchCV(cv=2, estimator=SVC(), n_jobs=-1,\n",
       "             param_grid={&#x27;C&#x27;: [0.0001, 0.01, 0.1], &#x27;gamma&#x27;: [100, 10, 1],\n",
       "                         &#x27;kernel&#x27;: [&#x27;rbf&#x27;, &#x27;poly&#x27;, &#x27;sigmoid&#x27;]})</pre></div></div></div><div class=\"sk-parallel\"><div class=\"sk-parallel-item\"><div class=\"sk-item\"><div class=\"sk-label-container\"><div class=\"sk-label sk-toggleable\"><input class=\"sk-toggleable__control sk-hidden--visually\" id=\"sk-estimator-id-2\" type=\"checkbox\" ><label for=\"sk-estimator-id-2\" class=\"sk-toggleable__label sk-toggleable__label-arrow\">estimator: SVC</label><div class=\"sk-toggleable__content\"><pre>SVC()</pre></div></div></div><div class=\"sk-serial\"><div class=\"sk-item\"><div class=\"sk-estimator sk-toggleable\"><input class=\"sk-toggleable__control sk-hidden--visually\" id=\"sk-estimator-id-3\" type=\"checkbox\" ><label for=\"sk-estimator-id-3\" class=\"sk-toggleable__label sk-toggleable__label-arrow\">SVC</label><div class=\"sk-toggleable__content\"><pre>SVC()</pre></div></div></div></div></div></div></div></div></div></div>"
      ],
      "text/plain": [
       "GridSearchCV(cv=2, estimator=SVC(), n_jobs=-1,\n",
       "             param_grid={'C': [0.0001, 0.01, 0.1], 'gamma': [100, 10, 1],\n",
       "                         'kernel': ['rbf', 'poly', 'sigmoid']})"
      ]
     },
     "execution_count": 6,
     "metadata": {},
     "output_type": "execute_result"
    }
   ],
   "source": [
    "# Intra\n",
    "param_grid_svc = {\n",
    "    'C': [0.0001, 0.01, 0.1],\n",
    "    'gamma': [100,10, 1],\n",
    "    'kernel': ['rbf', 'poly', 'sigmoid']\n",
    "}\n",
    "\n",
    "svc = SVC()\n",
    "grid_search_svc = GridSearchCV(estimator=svc, \n",
    "                               param_grid=param_grid_svc, \n",
    "                               cv=2,\n",
    "                               n_jobs=-1) \n",
    "grid_search_svc.fit(intra_X_train, intra_y_train)"
   ]
  },
  {
   "cell_type": "code",
   "execution_count": 7,
   "metadata": {},
   "outputs": [
    {
     "name": "stdout",
     "output_type": "stream",
     "text": [
      "Best params for intra subject task: {'C': 0.0001, 'gamma': 100, 'kernel': 'poly'}\n",
      "Best score for intra subject task: 1.0\n",
      "Accuracy on intra subject predictions: 1.0\n"
     ]
    }
   ],
   "source": [
    "print(\"Best params for intra subject task:\", grid_search_svc.best_params_)\n",
    "print(\"Best score for intra subject task:\", grid_search_svc.best_score_)\n",
    "print(\"Accuracy on intra subject predictions:\", grid_search_svc.score(intra_X_test,intra_y_test))"
   ]
  },
  {
   "cell_type": "code",
   "execution_count": 8,
   "metadata": {},
   "outputs": [
    {
     "data": {
      "text/html": [
       "<style>#sk-container-id-2 {color: black;}#sk-container-id-2 pre{padding: 0;}#sk-container-id-2 div.sk-toggleable {background-color: white;}#sk-container-id-2 label.sk-toggleable__label {cursor: pointer;display: block;width: 100%;margin-bottom: 0;padding: 0.3em;box-sizing: border-box;text-align: center;}#sk-container-id-2 label.sk-toggleable__label-arrow:before {content: \"▸\";float: left;margin-right: 0.25em;color: #696969;}#sk-container-id-2 label.sk-toggleable__label-arrow:hover:before {color: black;}#sk-container-id-2 div.sk-estimator:hover label.sk-toggleable__label-arrow:before {color: black;}#sk-container-id-2 div.sk-toggleable__content {max-height: 0;max-width: 0;overflow: hidden;text-align: left;background-color: #f0f8ff;}#sk-container-id-2 div.sk-toggleable__content pre {margin: 0.2em;color: black;border-radius: 0.25em;background-color: #f0f8ff;}#sk-container-id-2 input.sk-toggleable__control:checked~div.sk-toggleable__content {max-height: 200px;max-width: 100%;overflow: auto;}#sk-container-id-2 input.sk-toggleable__control:checked~label.sk-toggleable__label-arrow:before {content: \"▾\";}#sk-container-id-2 div.sk-estimator input.sk-toggleable__control:checked~label.sk-toggleable__label {background-color: #d4ebff;}#sk-container-id-2 div.sk-label input.sk-toggleable__control:checked~label.sk-toggleable__label {background-color: #d4ebff;}#sk-container-id-2 input.sk-hidden--visually {border: 0;clip: rect(1px 1px 1px 1px);clip: rect(1px, 1px, 1px, 1px);height: 1px;margin: -1px;overflow: hidden;padding: 0;position: absolute;width: 1px;}#sk-container-id-2 div.sk-estimator {font-family: monospace;background-color: #f0f8ff;border: 1px dotted black;border-radius: 0.25em;box-sizing: border-box;margin-bottom: 0.5em;}#sk-container-id-2 div.sk-estimator:hover {background-color: #d4ebff;}#sk-container-id-2 div.sk-parallel-item::after {content: \"\";width: 100%;border-bottom: 1px solid gray;flex-grow: 1;}#sk-container-id-2 div.sk-label:hover label.sk-toggleable__label {background-color: #d4ebff;}#sk-container-id-2 div.sk-serial::before {content: \"\";position: absolute;border-left: 1px solid gray;box-sizing: border-box;top: 0;bottom: 0;left: 50%;z-index: 0;}#sk-container-id-2 div.sk-serial {display: flex;flex-direction: column;align-items: center;background-color: white;padding-right: 0.2em;padding-left: 0.2em;position: relative;}#sk-container-id-2 div.sk-item {position: relative;z-index: 1;}#sk-container-id-2 div.sk-parallel {display: flex;align-items: stretch;justify-content: center;background-color: white;position: relative;}#sk-container-id-2 div.sk-item::before, #sk-container-id-2 div.sk-parallel-item::before {content: \"\";position: absolute;border-left: 1px solid gray;box-sizing: border-box;top: 0;bottom: 0;left: 50%;z-index: -1;}#sk-container-id-2 div.sk-parallel-item {display: flex;flex-direction: column;z-index: 1;position: relative;background-color: white;}#sk-container-id-2 div.sk-parallel-item:first-child::after {align-self: flex-end;width: 50%;}#sk-container-id-2 div.sk-parallel-item:last-child::after {align-self: flex-start;width: 50%;}#sk-container-id-2 div.sk-parallel-item:only-child::after {width: 0;}#sk-container-id-2 div.sk-dashed-wrapped {border: 1px dashed gray;margin: 0 0.4em 0.5em 0.4em;box-sizing: border-box;padding-bottom: 0.4em;background-color: white;}#sk-container-id-2 div.sk-label label {font-family: monospace;font-weight: bold;display: inline-block;line-height: 1.2em;}#sk-container-id-2 div.sk-label-container {text-align: center;}#sk-container-id-2 div.sk-container {/* jupyter's `normalize.less` sets `[hidden] { display: none; }` but bootstrap.min.css set `[hidden] { display: none !important; }` so we also need the `!important` here to be able to override the default hidden behavior on the sphinx rendered scikit-learn.org. See: https://github.com/scikit-learn/scikit-learn/issues/21755 */display: inline-block !important;position: relative;}#sk-container-id-2 div.sk-text-repr-fallback {display: none;}</style><div id=\"sk-container-id-2\" class=\"sk-top-container\"><div class=\"sk-text-repr-fallback\"><pre>GridSearchCV(cv=2, estimator=SVC(), n_jobs=-1,\n",
       "             param_grid={&#x27;C&#x27;: [0.0001, 0.01, 0.1], &#x27;gamma&#x27;: [100, 10, 1],\n",
       "                         &#x27;kernel&#x27;: [&#x27;rbf&#x27;, &#x27;poly&#x27;, &#x27;sigmoid&#x27;]})</pre><b>In a Jupyter environment, please rerun this cell to show the HTML representation or trust the notebook. <br />On GitHub, the HTML representation is unable to render, please try loading this page with nbviewer.org.</b></div><div class=\"sk-container\" hidden><div class=\"sk-item sk-dashed-wrapped\"><div class=\"sk-label-container\"><div class=\"sk-label sk-toggleable\"><input class=\"sk-toggleable__control sk-hidden--visually\" id=\"sk-estimator-id-4\" type=\"checkbox\" ><label for=\"sk-estimator-id-4\" class=\"sk-toggleable__label sk-toggleable__label-arrow\">GridSearchCV</label><div class=\"sk-toggleable__content\"><pre>GridSearchCV(cv=2, estimator=SVC(), n_jobs=-1,\n",
       "             param_grid={&#x27;C&#x27;: [0.0001, 0.01, 0.1], &#x27;gamma&#x27;: [100, 10, 1],\n",
       "                         &#x27;kernel&#x27;: [&#x27;rbf&#x27;, &#x27;poly&#x27;, &#x27;sigmoid&#x27;]})</pre></div></div></div><div class=\"sk-parallel\"><div class=\"sk-parallel-item\"><div class=\"sk-item\"><div class=\"sk-label-container\"><div class=\"sk-label sk-toggleable\"><input class=\"sk-toggleable__control sk-hidden--visually\" id=\"sk-estimator-id-5\" type=\"checkbox\" ><label for=\"sk-estimator-id-5\" class=\"sk-toggleable__label sk-toggleable__label-arrow\">estimator: SVC</label><div class=\"sk-toggleable__content\"><pre>SVC()</pre></div></div></div><div class=\"sk-serial\"><div class=\"sk-item\"><div class=\"sk-estimator sk-toggleable\"><input class=\"sk-toggleable__control sk-hidden--visually\" id=\"sk-estimator-id-6\" type=\"checkbox\" ><label for=\"sk-estimator-id-6\" class=\"sk-toggleable__label sk-toggleable__label-arrow\">SVC</label><div class=\"sk-toggleable__content\"><pre>SVC()</pre></div></div></div></div></div></div></div></div></div></div>"
      ],
      "text/plain": [
       "GridSearchCV(cv=2, estimator=SVC(), n_jobs=-1,\n",
       "             param_grid={'C': [0.0001, 0.01, 0.1], 'gamma': [100, 10, 1],\n",
       "                         'kernel': ['rbf', 'poly', 'sigmoid']})"
      ]
     },
     "execution_count": 8,
     "metadata": {},
     "output_type": "execute_result"
    }
   ],
   "source": [
    "# Cross\n",
    "\n",
    "param_grid_svc = {\n",
    "    'C': [0.0001, 0.01, 0.1],\n",
    "    'gamma': [100,10, 1],\n",
    "    'kernel': ['rbf', 'poly', 'sigmoid']\n",
    "}\n",
    "\n",
    "svc = SVC()\n",
    "cross_svc = GridSearchCV(estimator=svc, \n",
    "                               param_grid=param_grid_svc, \n",
    "                               cv=2,\n",
    "                               n_jobs=-1) \n",
    "cross_svc.fit(cross_X_train, cross_y_train)"
   ]
  },
  {
   "cell_type": "code",
   "execution_count": 11,
   "metadata": {},
   "outputs": [
    {
     "name": "stdout",
     "output_type": "stream",
     "text": [
      "Best params for cross subject task: {'C': 0.0001, 'gamma': 100, 'kernel': 'poly'}\n",
      "Best score for cross subject task: 0.984375\n",
      "Averaged Accuracy on cross predictions: 0.625\n"
     ]
    }
   ],
   "source": [
    "print(\"Best params for cross subject task:\", cross_svc.best_params_)\n",
    "print(\"Best score for cross subject task:\", cross_svc.best_score_)\n",
    "\n",
    "print(\"Averaged Accuracy on cross predictions:\", cross_svc.score(cross_X_test,cross_y_test))"
   ]
  },
  {
   "cell_type": "code",
   "execution_count": 29,
   "metadata": {},
   "outputs": [
    {
     "name": "stdout",
     "output_type": "stream",
     "text": [
      "Subject 1:\n",
      "\n",
      "Accuracy: 0.75\n",
      "Precision: 0.875\n",
      "Recall: 0.75\n",
      "F1: 0.6666666666666666\n",
      "Class rest:\n",
      "Missclassification rate: 0.0\n",
      "\n",
      "\n",
      "Class task_motor:\n",
      "Missclassification rate: 0.0\n",
      "\n",
      "\n",
      "Class task_story_math:\n",
      "Missclassification rate: 1.0\n",
      "\n",
      "\n",
      "Class task_working_memory:\n",
      "Missclassification rate: 0.0\n",
      "\n",
      "\n",
      "Subject 2:\n",
      "\n",
      "Accuracy: 0.75\n",
      "Precision: 0.875\n",
      "Recall: 0.75\n",
      "F1: 0.6666666666666666\n",
      "Class rest:\n",
      "Missclassification rate: 0.0\n",
      "\n",
      "\n",
      "Class task_motor:\n",
      "Missclassification rate: 0.0\n",
      "\n",
      "\n",
      "Class task_story_math:\n",
      "Missclassification rate: 1.0\n",
      "\n",
      "\n",
      "Class task_working_memory:\n",
      "Missclassification rate: 0.0\n",
      "\n",
      "\n",
      "Subject 3:\n",
      "\n",
      "Accuracy: 0.75\n",
      "Precision: 0.875\n",
      "Recall: 0.75\n",
      "F1: 0.6666666666666666\n",
      "Class rest:\n",
      "Missclassification rate: 0.0\n",
      "\n",
      "\n",
      "Class task_motor:\n",
      "Missclassification rate: 0.0\n",
      "\n",
      "\n",
      "Class task_story_math:\n",
      "Missclassification rate: 1.0\n",
      "\n",
      "\n",
      "Class task_working_memory:\n",
      "Missclassification rate: 0.0\n",
      "\n",
      "\n"
     ]
    }
   ],
   "source": [
    "\n",
    "from sklearn.metrics import accuracy_score, f1_score, precision_score, recall_score\n",
    "\n",
    "encoder_dict = {\n",
    "        'rest': 0,\n",
    "        'task_motor': 1,\n",
    "        'task_story_math': 2,\n",
    "        'task_working_memory': 3,\n",
    "    }\n",
    "\n",
    "for i in ['1', '2', '3']:\n",
    "    X = data['cross']['X_test'+i]\n",
    "    y = data['cross']['y_test'+i]\n",
    "    X, y = preprocess_data(X= data['intra']['X_test'],\n",
    "                            y= data['intra']['y_test'],\n",
    "                            sample_rate=8,scaler=scaler)\n",
    "    predictions = cross_svc.predict(X)\n",
    "    accuracy = accuracy_score(y, predictions)\n",
    "    precision = precision_score(y, predictions, average='macro', zero_division=1)\n",
    "\n",
    "    recall = recall_score(y, predictions, average='macro', zero_division=1)\n",
    "    f1 = f1_score(y, predictions, average='macro', zero_division=1)\n",
    "\n",
    "    print(f'Subject {i}:\\n')\n",
    "    print(f'Accuracy: {accuracy}')\n",
    "    print(f'Precision: {precision}')\n",
    "    print(f'Recall: {recall}')\n",
    "    print(f'F1: {f1}')\n",
    "\n",
    "    for label in encoder_dict.keys():\n",
    "        print(f'Class {label}:')\n",
    "        missclassified = [predictions[i] for i in range(len(predictions)) if predictions[i] != y[i] and y[i] == encoder_dict[label]]\n",
    "        print(f'Missclassification rate: {len(missclassified)/np.count_nonzero(y == encoder_dict[label])}') \n",
    "        print('\\n')"
   ]
  }
 ],
 "metadata": {
  "kernelspec": {
   "display_name": "pr",
   "language": "python",
   "name": "python3"
  },
  "language_info": {
   "codemirror_mode": {
    "name": "ipython",
    "version": 3
   },
   "file_extension": ".py",
   "mimetype": "text/x-python",
   "name": "python",
   "nbconvert_exporter": "python",
   "pygments_lexer": "ipython3",
   "version": "3.8.18"
  }
 },
 "nbformat": 4,
 "nbformat_minor": 2
}
