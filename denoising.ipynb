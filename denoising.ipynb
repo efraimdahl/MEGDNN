{
 "cells": [
  {
   "cell_type": "markdown",
   "metadata": {},
   "source": [
    "Below is the code for denoising. I have written a denoising function and below it is the code to run all the files.\n",
    "They are not yet getting saved.\n",
    "\n",
    "To run all the files. change the base directory and also change the task_types and number variable back to the commented out section."
   ]
  },
  {
   "cell_type": "code",
   "execution_count": null,
   "metadata": {},
   "outputs": [],
   "source": [
    "import h5py\n",
    "import os\n",
    "import numpy as np\n",
    "from sklearn.preprocessing import MinMaxScaler\n",
    "from meegkit import star\n",
    "from meegkit.utils import demean, normcol\n",
    "\n",
    "def get_dataset_name(file_path):\n",
    "    file_name = os.path.basename(file_path)  # Extract the file name\n",
    "    temp = file_name.split('_')[:-1]\n",
    "    dataset_name = \"_\".join(temp)\n",
    "    return dataset_name\n",
    "\n",
    "def denoise(matrix):\n",
    "    \"\"\"Takes a matrix and applies denoising to it using the STAR method.\n",
    "    :param: matrix: inputs a matrix.\n",
    "    :return y: the denoised data of the matrix\n",
    "            w: I have no idea\n",
    "            denoised_matrix:  the denoised matrix retransposed to fit the original shape\n",
    "    \"\"\"\n",
    "    transposed_matrix = np.transpose(matrix)\n",
    "    y, w, _ = star.star(transposed_matrix, 2)\n",
    "    denoised_matrix = np.transpose(transposed_matrix)\n",
    "    return y, w, denoised_matrix\n",
    "\n",
    "#Note that you need to change the base directory\n",
    "base_directory = os.path.join(os.path.expanduser('~'), 'Downloads', 'FinalProjectdata', 'FinalProjectdata', 'Intra', 'train')\n",
    "task_types = ['rest'] #['rest', 'task_motor', 'task_story_math', 'task_working_memory']\n",
    "\n",
    "scaler = MinMaxScaler(feature_range=(0, 1), copy=True, clip=False)\n",
    "\n",
    "# Loop over task types\n",
    "for task_type in task_types:\n",
    "    for number in ['1']: #['1', '2', '3', '4', '5', '6', '7', '8']\n",
    "        # Construct the file path using os.path.join\n",
    "        file_path = os.path.join(base_directory, f\"{task_type}_105923_{number}.h5\")\n",
    "        \n",
    "        # Check if the file exists\n",
    "        if os.path.exists(file_path):\n",
    "            # Process the file\n",
    "            with h5py.File(file_path, 'r') as f:\n",
    "                dataset_name = get_dataset_name(file_path)\n",
    "\n",
    "                # Check if the dataset exists\n",
    "                if dataset_name in f:\n",
    "                    matrix = f[dataset_name][()]\n",
    "                    # Reshape the matrix to a 1D array if needed\n",
    "\n",
    "                    # Apply MinMaxScaler\n",
    "                    scaled_data = scaler.fit_transform(matrix)\n",
    "\n",
    "                    # Apply denoising\n",
    "                    y, w, retransposed_matrix = denoise(matrix)\n",
    "\n",
    "                    # Print the first few instances of the scaled data\n",
    "                    print(\"First few instances of the scaled data:\")\n",
    "                    print(scaled_data[:5, :5])\n",
    "                    print(\"First few instances of the retransposed data:\")\n",
    "                    print(retransposed_matrix[:5, :5])\n",
    "                    print()\n",
    "                else:\n",
    "                    print(f\"Dataset '{dataset_name}' not found in the file: {file_path}\")\n",
    "        else:\n",
    "            print(f\"File not found: {file_path}\")"
   ]
  },
  {
   "cell_type": "markdown",
   "metadata": {},
   "source": [
    "Makes the plots"
   ]
  },
  {
   "cell_type": "code",
   "execution_count": null,
   "metadata": {},
   "outputs": [],
   "source": [
    "import matplotlib.pyplot as plt\n",
    "\n",
    "#Generates the plot based on the data\n",
    "f, (ax1, ax2) = plt.subplots(2, 1)\n",
    "ax1.plot(retransposed_matrix, lw=.5)\n",
    "ax1.set_title(f\"Signal + Artifacts (not scaled)\")\n",
    "ax2.plot(y, lw=.5)\n",
    "ax2.set_title(\"Denoised\")\n",
    "# ax3.plot(demean(y) - x0, lw=.5) #I have removed it for now, we might add it back x0 being scaled data transposed\n",
    "# ax3.set_title(\"Residual\")\n",
    "f.set_tight_layout(True)\n",
    "plt.show()"
   ]
  },
  {
   "cell_type": "markdown",
   "metadata": {},
   "source": [
    "# The example code #"
   ]
  },
  {
   "cell_type": "code",
   "execution_count": null,
   "metadata": {},
   "outputs": [],
   "source": [
    "import matplotlib.pyplot as plt\n",
    "import numpy as np\n",
    "import h5py\n",
    "from meegkit import star\n",
    "from meegkit.utils import demean, normcol\n",
    "\n",
    "rng = np.random.default_rng(9)\n",
    "\n",
    "\n",
    "# Create simulated data\n",
    "nchans = 10\n",
    "n_samples = 1000\n",
    "f = 2\n",
    "target = np.sin(np.arange(n_samples) / n_samples * 2 * np.pi * f)\n",
    "target = target[:, np.newaxis]\n",
    "noise = rng.standard_normal((n_samples, nchans - 3))\n",
    "\n",
    "# Create artifact signal\n",
    "SNR = np.sqrt(1)\n",
    "x0 = normcol(np.dot(noise, rng.standard_normal((noise.shape[1], nchans)))) + \\\n",
    "    SNR * target * rng.standard_normal((1, nchans))\n",
    "x0 = demean(x0)\n",
    "artifact = np.zeros(x0.shape)\n",
    "for k in np.arange(nchans):\n",
    "    artifact[k * 100 + np.arange(20), k] = 1\n",
    "x = x0 + 10 * artifact\n",
    "\n",
    "print(x.shape)\n",
    "\n",
    "y, w, _ = star.star(x, 2)"
   ]
  },
  {
   "cell_type": "code",
   "execution_count": null,
   "metadata": {},
   "outputs": [],
   "source": [
    "import matplotlib.pyplot as plt\n",
    "\n",
    "f, (ax1, ax2, ax3) = plt.subplots(3, 1)\n",
    "ax1.plot(x, lw=.5)\n",
    "ax1.set_title(f\"Signal + Artifacts\")\n",
    "ax2.plot(y, lw=.5)\n",
    "ax2.set_title(\"Denoised\")\n",
    "ax3.plot(demean(y) - x0, lw=.5)\n",
    "ax3.set_title(\"Residual\")\n",
    "f.set_tight_layout(True)\n",
    "plt.show()"
   ]
  }
 ],
 "metadata": {
  "language_info": {
   "name": "python"
  }
 },
 "nbformat": 4,
 "nbformat_minor": 2
}
